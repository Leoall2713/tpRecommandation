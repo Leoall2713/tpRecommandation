{
 "cells": [
  {
   "cell_type": "markdown",
   "metadata": {},
   "source": [
    "## TP2"
   ]
  },
  {
   "cell_type": "markdown",
   "metadata": {},
   "source": [
    "### Partie 1"
   ]
  },
  {
   "cell_type": "code",
   "execution_count": 1,
   "metadata": {},
   "outputs": [],
   "source": [
    "import pandas as pd"
   ]
  },
  {
   "cell_type": "code",
   "execution_count": 5,
   "metadata": {},
   "outputs": [],
   "source": [
    "df_ratings = pd.read_csv('C:/Users/leo-a/Desktop/Cours M2/Apprentissage pour le web/TP2/ml-100k/u.data', sep='\\t', names=['user_id', 'movie_id', 'rating', 'timestamp'])\n",
    "\n",
    "movies_cols = ['movie_id', 'title', 'release_date', 'video_release_date', 'IMDb_URL'] + [f'genre_{i}' for i in range(19)]\n",
    "df_movies = pd.read_csv('C:/Users/leo-a/Desktop/Cours M2/Apprentissage pour le web/TP2/ml-100k/u.item', sep='|', names=movies_cols, encoding='latin-1')"
   ]
  },
  {
   "cell_type": "code",
   "execution_count": 16,
   "metadata": {},
   "outputs": [
    {
     "data": {
      "text/html": [
       "<div>\n",
       "<style scoped>\n",
       "    .dataframe tbody tr th:only-of-type {\n",
       "        vertical-align: middle;\n",
       "    }\n",
       "\n",
       "    .dataframe tbody tr th {\n",
       "        vertical-align: top;\n",
       "    }\n",
       "\n",
       "    .dataframe thead th {\n",
       "        text-align: right;\n",
       "    }\n",
       "</style>\n",
       "<table border=\"1\" class=\"dataframe\">\n",
       "  <thead>\n",
       "    <tr style=\"text-align: right;\">\n",
       "      <th></th>\n",
       "      <th>movie_id</th>\n",
       "      <th>title</th>\n",
       "      <th>release_date</th>\n",
       "      <th>video_release_date</th>\n",
       "      <th>IMDb_URL</th>\n",
       "      <th>genre_0</th>\n",
       "      <th>genre_1</th>\n",
       "      <th>genre_2</th>\n",
       "      <th>genre_3</th>\n",
       "      <th>genre_4</th>\n",
       "      <th>...</th>\n",
       "      <th>genre_9</th>\n",
       "      <th>genre_10</th>\n",
       "      <th>genre_11</th>\n",
       "      <th>genre_12</th>\n",
       "      <th>genre_13</th>\n",
       "      <th>genre_14</th>\n",
       "      <th>genre_15</th>\n",
       "      <th>genre_16</th>\n",
       "      <th>genre_17</th>\n",
       "      <th>genre_18</th>\n",
       "    </tr>\n",
       "  </thead>\n",
       "  <tbody>\n",
       "    <tr>\n",
       "      <th>0</th>\n",
       "      <td>1</td>\n",
       "      <td>Toy Story (1995)</td>\n",
       "      <td>01-Jan-1995</td>\n",
       "      <td>NaN</td>\n",
       "      <td>http://us.imdb.com/M/title-exact?Toy%20Story%2...</td>\n",
       "      <td>0</td>\n",
       "      <td>0</td>\n",
       "      <td>0</td>\n",
       "      <td>1</td>\n",
       "      <td>1</td>\n",
       "      <td>...</td>\n",
       "      <td>0</td>\n",
       "      <td>0</td>\n",
       "      <td>0</td>\n",
       "      <td>0</td>\n",
       "      <td>0</td>\n",
       "      <td>0</td>\n",
       "      <td>0</td>\n",
       "      <td>0</td>\n",
       "      <td>0</td>\n",
       "      <td>0</td>\n",
       "    </tr>\n",
       "    <tr>\n",
       "      <th>1</th>\n",
       "      <td>2</td>\n",
       "      <td>GoldenEye (1995)</td>\n",
       "      <td>01-Jan-1995</td>\n",
       "      <td>NaN</td>\n",
       "      <td>http://us.imdb.com/M/title-exact?GoldenEye%20(...</td>\n",
       "      <td>0</td>\n",
       "      <td>1</td>\n",
       "      <td>1</td>\n",
       "      <td>0</td>\n",
       "      <td>0</td>\n",
       "      <td>...</td>\n",
       "      <td>0</td>\n",
       "      <td>0</td>\n",
       "      <td>0</td>\n",
       "      <td>0</td>\n",
       "      <td>0</td>\n",
       "      <td>0</td>\n",
       "      <td>0</td>\n",
       "      <td>1</td>\n",
       "      <td>0</td>\n",
       "      <td>0</td>\n",
       "    </tr>\n",
       "    <tr>\n",
       "      <th>2</th>\n",
       "      <td>3</td>\n",
       "      <td>Four Rooms (1995)</td>\n",
       "      <td>01-Jan-1995</td>\n",
       "      <td>NaN</td>\n",
       "      <td>http://us.imdb.com/M/title-exact?Four%20Rooms%...</td>\n",
       "      <td>0</td>\n",
       "      <td>0</td>\n",
       "      <td>0</td>\n",
       "      <td>0</td>\n",
       "      <td>0</td>\n",
       "      <td>...</td>\n",
       "      <td>0</td>\n",
       "      <td>0</td>\n",
       "      <td>0</td>\n",
       "      <td>0</td>\n",
       "      <td>0</td>\n",
       "      <td>0</td>\n",
       "      <td>0</td>\n",
       "      <td>1</td>\n",
       "      <td>0</td>\n",
       "      <td>0</td>\n",
       "    </tr>\n",
       "    <tr>\n",
       "      <th>3</th>\n",
       "      <td>4</td>\n",
       "      <td>Get Shorty (1995)</td>\n",
       "      <td>01-Jan-1995</td>\n",
       "      <td>NaN</td>\n",
       "      <td>http://us.imdb.com/M/title-exact?Get%20Shorty%...</td>\n",
       "      <td>0</td>\n",
       "      <td>1</td>\n",
       "      <td>0</td>\n",
       "      <td>0</td>\n",
       "      <td>0</td>\n",
       "      <td>...</td>\n",
       "      <td>0</td>\n",
       "      <td>0</td>\n",
       "      <td>0</td>\n",
       "      <td>0</td>\n",
       "      <td>0</td>\n",
       "      <td>0</td>\n",
       "      <td>0</td>\n",
       "      <td>0</td>\n",
       "      <td>0</td>\n",
       "      <td>0</td>\n",
       "    </tr>\n",
       "    <tr>\n",
       "      <th>4</th>\n",
       "      <td>5</td>\n",
       "      <td>Copycat (1995)</td>\n",
       "      <td>01-Jan-1995</td>\n",
       "      <td>NaN</td>\n",
       "      <td>http://us.imdb.com/M/title-exact?Copycat%20(1995)</td>\n",
       "      <td>0</td>\n",
       "      <td>0</td>\n",
       "      <td>0</td>\n",
       "      <td>0</td>\n",
       "      <td>0</td>\n",
       "      <td>...</td>\n",
       "      <td>0</td>\n",
       "      <td>0</td>\n",
       "      <td>0</td>\n",
       "      <td>0</td>\n",
       "      <td>0</td>\n",
       "      <td>0</td>\n",
       "      <td>0</td>\n",
       "      <td>1</td>\n",
       "      <td>0</td>\n",
       "      <td>0</td>\n",
       "    </tr>\n",
       "  </tbody>\n",
       "</table>\n",
       "<p>5 rows × 24 columns</p>\n",
       "</div>"
      ],
      "text/plain": [
       "   movie_id              title release_date  video_release_date  \\\n",
       "0         1   Toy Story (1995)  01-Jan-1995                 NaN   \n",
       "1         2   GoldenEye (1995)  01-Jan-1995                 NaN   \n",
       "2         3  Four Rooms (1995)  01-Jan-1995                 NaN   \n",
       "3         4  Get Shorty (1995)  01-Jan-1995                 NaN   \n",
       "4         5     Copycat (1995)  01-Jan-1995                 NaN   \n",
       "\n",
       "                                            IMDb_URL  genre_0  genre_1  \\\n",
       "0  http://us.imdb.com/M/title-exact?Toy%20Story%2...        0        0   \n",
       "1  http://us.imdb.com/M/title-exact?GoldenEye%20(...        0        1   \n",
       "2  http://us.imdb.com/M/title-exact?Four%20Rooms%...        0        0   \n",
       "3  http://us.imdb.com/M/title-exact?Get%20Shorty%...        0        1   \n",
       "4  http://us.imdb.com/M/title-exact?Copycat%20(1995)        0        0   \n",
       "\n",
       "   genre_2  genre_3  genre_4  ...  genre_9  genre_10  genre_11  genre_12  \\\n",
       "0        0        1        1  ...        0         0         0         0   \n",
       "1        1        0        0  ...        0         0         0         0   \n",
       "2        0        0        0  ...        0         0         0         0   \n",
       "3        0        0        0  ...        0         0         0         0   \n",
       "4        0        0        0  ...        0         0         0         0   \n",
       "\n",
       "   genre_13  genre_14  genre_15  genre_16  genre_17  genre_18  \n",
       "0         0         0         0         0         0         0  \n",
       "1         0         0         0         1         0         0  \n",
       "2         0         0         0         1         0         0  \n",
       "3         0         0         0         0         0         0  \n",
       "4         0         0         0         1         0         0  \n",
       "\n",
       "[5 rows x 24 columns]"
      ]
     },
     "execution_count": 16,
     "metadata": {},
     "output_type": "execute_result"
    }
   ],
   "source": [
    "df_movies.head()"
   ]
  },
  {
   "cell_type": "markdown",
   "metadata": {},
   "source": [
    "### Partie 2"
   ]
  },
  {
   "cell_type": "code",
   "execution_count": 9,
   "metadata": {},
   "outputs": [],
   "source": [
    "from surprise import Dataset, Reader\n",
    "from surprise.model_selection import train_test_split"
   ]
  },
  {
   "cell_type": "code",
   "execution_count": 8,
   "metadata": {},
   "outputs": [],
   "source": [
    "reader = Reader(rating_scale=(1, 5))\n",
    "data = Dataset.load_from_df(df_ratings[['user_id', 'movie_id', 'rating']], reader)"
   ]
  },
  {
   "cell_type": "code",
   "execution_count": 10,
   "metadata": {},
   "outputs": [],
   "source": [
    "train, test = train_test_split(data, test_size=0.2)"
   ]
  },
  {
   "cell_type": "code",
   "execution_count": 11,
   "metadata": {},
   "outputs": [
    {
     "name": "stdout",
     "output_type": "stream",
     "text": [
      "Computing the cosine similarity matrix...\n",
      "Done computing similarity matrix.\n"
     ]
    },
    {
     "data": {
      "text/plain": [
       "<surprise.prediction_algorithms.knns.KNNBasic at 0x1d52c023110>"
      ]
     },
     "execution_count": 11,
     "metadata": {},
     "output_type": "execute_result"
    }
   ],
   "source": [
    "from surprise import KNNBasic\n",
    "sim_options = {\n",
    "    'name': 'cosine',\n",
    "    'user_based': True  \n",
    "}\n",
    "algo = KNNBasic(sim_options=sim_options)\n",
    "algo.fit(train)\n"
   ]
  },
  {
   "cell_type": "code",
   "execution_count": 13,
   "metadata": {},
   "outputs": [
    {
     "name": "stdout",
     "output_type": "stream",
     "text": [
      "RMSE: 1.0186\n",
      "MAE:  0.8046\n"
     ]
    }
   ],
   "source": [
    "from surprise import accuracy\n",
    "predictions = algo.test(test)\n",
    "rmse = accuracy.rmse(predictions)\n",
    "mae = accuracy.mae(predictions)\n"
   ]
  },
  {
   "cell_type": "markdown",
   "metadata": {},
   "source": [
    "### Partie 3"
   ]
  },
  {
   "cell_type": "code",
   "execution_count": 14,
   "metadata": {},
   "outputs": [],
   "source": [
    "from sklearn.feature_extraction.text import TfidfVectorizer\n",
    "from sklearn.metrics.pairwise import cosine_similarity"
   ]
  },
  {
   "cell_type": "code",
   "execution_count": 18,
   "metadata": {},
   "outputs": [
    {
     "name": "stdout",
     "output_type": "stream",
     "text": [
      "               title                    genres\n",
      "0   Toy Story (1995)   genre_3 genre_4 genre_5\n",
      "1   GoldenEye (1995)  genre_1 genre_2 genre_16\n",
      "2  Four Rooms (1995)                  genre_16\n",
      "3  Get Shorty (1995)   genre_1 genre_5 genre_8\n",
      "4     Copycat (1995)  genre_6 genre_8 genre_16\n"
     ]
    }
   ],
   "source": [
    "\n",
    "genres_columns = df_movies.columns[5:]\n",
    "\n",
    "df_movies['genres'] = df_movies[genres_columns].apply(lambda row: ' '.join([col for col, val in zip(genres_columns, row) if val == 1]), axis=1)\n",
    "\n",
    "print(df_movies[['title', 'genres']].head())\n"
   ]
  },
  {
   "cell_type": "code",
   "execution_count": 20,
   "metadata": {},
   "outputs": [
    {
     "name": "stdout",
     "output_type": "stream",
     "text": [
      "(1682, 19)\n"
     ]
    }
   ],
   "source": [
    "\n",
    "tfidf = TfidfVectorizer()\n",
    "\n",
    "tfidf_matrix = tfidf.fit_transform(df_movies['genres'])\n",
    "\n",
    "print(tfidf_matrix.shape)\n"
   ]
  },
  {
   "cell_type": "code",
   "execution_count": 21,
   "metadata": {},
   "outputs": [
    {
     "name": "stdout",
     "output_type": "stream",
     "text": [
      "Genres sélectionnés par l'utilisateur: Comedy\n"
     ]
    }
   ],
   "source": [
    "all_genres = ['Action', 'Adventure', 'Animation', 'Children', 'Comedy', 'Crime', 'Documentary', 'Drama', \n",
    "              'Fantasy', 'Film-Noir', 'Horror', 'Musical', 'Mystery', 'Romance', 'Sci-Fi', 'Thriller', 'War', 'Western']\n",
    "\n",
    "user_genres = input(f\"Veuillez entrer vos genres préférés, séparés par des virgules, parmi {', '.join(all_genres)}: \")\n",
    "\n",
    "user_genres = user_genres.split(',')\n",
    "user_genres = ' '.join([genre.strip() for genre in user_genres])\n",
    "\n",
    "print(f\"Genres sélectionnés par l'utilisateur: {user_genres}\")\n"
   ]
  },
  {
   "cell_type": "code",
   "execution_count": 22,
   "metadata": {},
   "outputs": [
    {
     "name": "stdout",
     "output_type": "stream",
     "text": [
      "                                      title                     genres  \\\n",
      "0                          Toy Story (1995)    genre_3 genre_4 genre_5   \n",
      "1104                       Firestorm (1998)   genre_1 genre_2 genre_16   \n",
      "1128               Chungking Express (1994)  genre_8 genre_13 genre_14   \n",
      "1127  Heidi Fleiss: Hollywood Madam (1995)                     genre_7   \n",
      "1126                Truman Show, The (1998)                    genre_8   \n",
      "1125        Old Man and the Sea, The (1958)            genre_2 genre_8   \n",
      "1124                  Innocents, The (1961)                   genre_16   \n",
      "1123             Farewell to Arms, A (1932)          genre_14 genre_17   \n",
      "1122      Last Time I Saw Paris, The (1954)                    genre_8   \n",
      "1121         They Made Me a Criminal (1939)            genre_6 genre_8   \n",
      "\n",
      "      similarity_score  \n",
      "0                  0.0  \n",
      "1104               0.0  \n",
      "1128               0.0  \n",
      "1127               0.0  \n",
      "1126               0.0  \n",
      "1125               0.0  \n",
      "1124               0.0  \n",
      "1123               0.0  \n",
      "1122               0.0  \n",
      "1121               0.0  \n"
     ]
    }
   ],
   "source": [
    "user_tfidf = tfidf.transform([user_genres])\n",
    "\n",
    "similarity = cosine_similarity(user_tfidf, tfidf_matrix)\n",
    "\n",
    "similarity_scores = similarity.flatten()\n",
    "\n",
    "df_movies['similarity_score'] = similarity_scores\n",
    "\n",
    "movies_sorted = df_movies.sort_values(by='similarity_score', ascending=False)\n",
    "\n",
    "print(movies_sorted[['title', 'genres', 'similarity_score']].head(10))"
   ]
  },
  {
   "cell_type": "markdown",
   "metadata": {},
   "source": [
    "### Partie 4"
   ]
  },
  {
   "cell_type": "code",
   "execution_count": 25,
   "metadata": {},
   "outputs": [
    {
     "name": "stdout",
     "output_type": "stream",
     "text": [
      "Films recommandés par filtrage collaboratif pour l'utilisateur 1 : [1122, 1189, 1201, 1293, 1398, 1429, 1467, 1491, 1536, 1599]\n"
     ]
    }
   ],
   "source": [
    "\n",
    "user_id = 1\n",
    "\n",
    "all_movie_ids = df_movies['movie_id'].tolist()\n",
    "rated_movies = df_ratings[df_ratings['user_id'] == user_id]['movie_id'].tolist()\n",
    "\n",
    "unrated_movies = [movie_id for movie_id in all_movie_ids if movie_id not in rated_movies]\n",
    "\n",
    "predictions = [algo.predict(user_id, movie_id) for movie_id in unrated_movies]\n",
    "\n",
    "predictions.sort(key=lambda x: x.est, reverse=True)\n",
    "\n",
    "top_10_collab = predictions[:10]\n",
    "top_10_movie_ids = [pred.iid for pred in top_10_collab]\n",
    "\n",
    "print(f\"Films recommandés par filtrage collaboratif pour l'utilisateur {user_id} : {top_10_movie_ids}\")\n"
   ]
  },
  {
   "cell_type": "code",
   "execution_count": 26,
   "metadata": {},
   "outputs": [
    {
     "name": "stdout",
     "output_type": "stream",
     "text": [
      "Top 5 des films recommandés via système hybride :\n",
      "                                           title  \\\n",
      "1121              They Made Me a Criminal (1939)   \n",
      "1188                          Prefontaine (1997)   \n",
      "1200  Marlene Dietrich: Shadow and Light (1996)    \n",
      "1292                             Star Kid (1997)   \n",
      "1397                                 Anna (1996)   \n",
      "\n",
      "                                genres  similarity_score  \n",
      "1121                   genre_6 genre_8               0.0  \n",
      "1188                           genre_8               0.0  \n",
      "1200                           genre_7               0.0  \n",
      "1292  genre_2 genre_4 genre_9 genre_15               0.0  \n",
      "1397                           genre_8               0.0  \n"
     ]
    },
    {
     "name": "stderr",
     "output_type": "stream",
     "text": [
      "C:\\Users\\leo-a\\AppData\\Local\\Temp\\ipykernel_79860\\2779325029.py:11: SettingWithCopyWarning: \n",
      "A value is trying to be set on a copy of a slice from a DataFrame.\n",
      "Try using .loc[row_indexer,col_indexer] = value instead\n",
      "\n",
      "See the caveats in the documentation: https://pandas.pydata.org/pandas-docs/stable/user_guide/indexing.html#returning-a-view-versus-a-copy\n",
      "  filtered_movies['similarity_score'] = similarity.flatten()\n"
     ]
    }
   ],
   "source": [
    "\n",
    "user_genres = input(f\"Veuillez entrer vos genres préférés, séparés par des virgules, parmi {', '.join(all_genres)}: \")\n",
    "user_genres = user_genres.split(',')\n",
    "user_genres = ' '.join([genre.strip() for genre in user_genres])\n",
    "\n",
    "user_tfidf = tfidf.transform([user_genres])\n",
    "\n",
    "\n",
    "filtered_movies = df_movies[df_movies['movie_id'].isin(top_10_movie_ids)]\n",
    "similarity = cosine_similarity(user_tfidf, tfidf.transform(filtered_movies['genres']))\n",
    "\n",
    "filtered_movies['similarity_score'] = similarity.flatten()\n",
    "\n",
    "filtered_movies = filtered_movies.sort_values(by='similarity_score', ascending=False)\n",
    "\n",
    "top_5_hybrid = filtered_movies[['title', 'genres', 'similarity_score']].head(5)\n",
    "\n",
    "print(\"Top 5 des films recommandés via système hybride :\")\n",
    "print(top_5_hybrid)\n"
   ]
  },
  {
   "cell_type": "code",
   "execution_count": 27,
   "metadata": {},
   "outputs": [
    {
     "name": "stdout",
     "output_type": "stream",
     "text": [
      "Genres préférés de l'utilisateur : Crime\n"
     ]
    }
   ],
   "source": [
    "\n",
    "all_genres = ['Action', 'Adventure', 'Animation', 'Children', 'Comedy', 'Crime', 'Documentary', 'Drama', \n",
    "              'Fantasy', 'Film-Noir', 'Horror', 'Musical', 'Mystery', 'Romance', 'Sci-Fi', 'Thriller', 'War', 'Western']\n",
    "\n",
    "user_genres = input(f\"Veuillez entrer vos genres préférés, séparés par des virgules, parmi {', '.join(all_genres)}: \")\n",
    "\n",
    "user_genres = [genre.strip() for genre in user_genres.split(',')]\n",
    "user_genres = ' '.join(user_genres) \n",
    "print(f\"Genres préférés de l'utilisateur : {user_genres}\")\n"
   ]
  },
  {
   "cell_type": "code",
   "execution_count": 29,
   "metadata": {},
   "outputs": [
    {
     "name": "stdout",
     "output_type": "stream",
     "text": [
      "Top 5 films correspondant aux genres préférés de l'utilisateur :\n",
      "                                      title                     genres  \\\n",
      "0                          Toy Story (1995)    genre_3 genre_4 genre_5   \n",
      "1104                       Firestorm (1998)   genre_1 genre_2 genre_16   \n",
      "1128               Chungking Express (1994)  genre_8 genre_13 genre_14   \n",
      "1127  Heidi Fleiss: Hollywood Madam (1995)                     genre_7   \n",
      "1126                Truman Show, The (1998)                    genre_8   \n",
      "\n",
      "      similarity_score  \n",
      "0                  0.0  \n",
      "1104               0.0  \n",
      "1128               0.0  \n",
      "1127               0.0  \n",
      "1126               0.0  \n"
     ]
    }
   ],
   "source": [
    "from sklearn.feature_extraction.text import TfidfVectorizer\n",
    "from sklearn.metrics.pairwise import cosine_similarity\n",
    "\n",
    "tfidf = TfidfVectorizer()\n",
    "\n",
    "tfidf_matrix = tfidf.fit_transform(df_movies['genres'])\n",
    "\n",
    "user_tfidf = tfidf.transform([user_genres])\n",
    "\n",
    "similarity = cosine_similarity(user_tfidf, tfidf_matrix)\n",
    "\n",
    "df_movies['similarity_score'] = similarity.flatten()\n",
    "\n",
    "movies_sorted = df_movies.sort_values(by='similarity_score', ascending=False)\n",
    "\n",
    "top_5_genres_recommendations = movies_sorted[['title', 'genres', 'similarity_score']].head(5)\n",
    "print(\"Top 5 films correspondant aux genres préférés de l'utilisateur :\")\n",
    "print(top_5_genres_recommendations)\n"
   ]
  }
 ],
 "metadata": {
  "kernelspec": {
   "display_name": "Python 3",
   "language": "python",
   "name": "python3"
  },
  "language_info": {
   "codemirror_mode": {
    "name": "ipython",
    "version": 3
   },
   "file_extension": ".py",
   "mimetype": "text/x-python",
   "name": "python",
   "nbconvert_exporter": "python",
   "pygments_lexer": "ipython3",
   "version": "3.11.5"
  }
 },
 "nbformat": 4,
 "nbformat_minor": 2
}
